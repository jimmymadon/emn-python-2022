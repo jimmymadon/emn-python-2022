{
 "cells": [
  {
   "cell_type": "code",
   "execution_count": 2,
   "metadata": {},
   "outputs": [
    {
     "name": "stdout",
     "output_type": "stream",
     "text": [
      "Printing cars_list\n",
      "['Mercedes', 'BMW', 'Audi']\n",
      "\n"
     ]
    }
   ],
   "source": [
    "import pandas as pd\n",
    "\n",
    "cars_list = [\"Mercedes\", \"BMW\", \"Audi\"]\n",
    "print(\"Printing cars_list\")\n",
    "print(cars_list)\n",
    "print()"
   ]
  },
  {
   "cell_type": "code",
   "execution_count": 3,
   "metadata": {},
   "outputs": [
    {
     "name": "stdout",
     "output_type": "stream",
     "text": [
      "Printing cars_series:\n",
      "0    Mercedes\n",
      "1         BMW\n",
      "2        Audi\n",
      "dtype: object\n",
      "\n",
      "Third car in the cars_series is: Audi\n"
     ]
    }
   ],
   "source": [
    "# Creating a Pandas Series using 1 simple python list\n",
    "cars_series = pd.Series(cars_list)\n",
    "print(\"Printing cars_series:\")\n",
    "print(cars_series)\n",
    "print()\n",
    "print(\"Third car in the cars_series is:\", cars_series[2])"
   ]
  },
  {
   "cell_type": "code",
   "execution_count": 4,
   "metadata": {},
   "outputs": [
    {
     "name": "stdout",
     "output_type": "stream",
     "text": [
      "Printing cars_series_with_labels:\n",
      "C Class     Mercedes\n",
      "4 Series         BMW\n",
      "Q5              Audi\n",
      "dtype: object\n",
      "\n",
      "Third car in the cars_series_with_labels is: Audi\n"
     ]
    }
   ],
   "source": [
    "cars_models = [\"C Class\", \"4 Series\", \"Q5\"]\n",
    "# Creating a Pandas Series using 2 python lists: First list for values, second list for index/labels\n",
    "cars_series_with_labels = pd.Series(cars_list, cars_models)\n",
    "print(\"Printing cars_series_with_labels:\")\n",
    "print(cars_series_with_labels)\n",
    "print()\n",
    "print(\"Third car in the cars_series_with_labels is:\", cars_series_with_labels[\"Q5\"])"
   ]
  },
  {
   "cell_type": "code",
   "execution_count": 5,
   "metadata": {},
   "outputs": [
    {
     "name": "stdout",
     "output_type": "stream",
     "text": [
      "Printing cars_dictionary:\n",
      "{'C Class': 'Mercedes', '3 Series': 'BMW', 'Q5': 'Audi'}\n"
     ]
    }
   ],
   "source": [
    "cars_dictionary = {\n",
    "    \"C Class\": \"Mercedes\",\n",
    "    \"3 Series\": \"BMW\",\n",
    "    \"Q5\": \"Audi\"\n",
    "}\n",
    "print(\"Printing cars_dictionary:\")\n",
    "print(cars_dictionary)"
   ]
  },
  {
   "cell_type": "code",
   "execution_count": 6,
   "metadata": {},
   "outputs": [
    {
     "name": "stdout",
     "output_type": "stream",
     "text": [
      "C Class     Mercedes\n",
      "3 Series         BMW\n",
      "Q5              Audi\n",
      "dtype: object\n"
     ]
    }
   ],
   "source": [
    "# Creating a Pandas Series using a single python dictionary\n",
    "cars_series_with_labels_2 = pd.Series(cars_dictionary)\n",
    "print(cars_series_with_labels_2)"
   ]
  }
 ],
 "metadata": {
  "interpreter": {
   "hash": "aee8b7b246df8f9039afb4144a1f6fd8d2ca17a180786b69acc140d282b71a49"
  },
  "kernelspec": {
   "display_name": "Python 3.9.10 64-bit",
   "language": "python",
   "name": "python3"
  },
  "language_info": {
   "codemirror_mode": {
    "name": "ipython",
    "version": 3
   },
   "file_extension": ".py",
   "mimetype": "text/x-python",
   "name": "python",
   "nbconvert_exporter": "python",
   "pygments_lexer": "ipython3",
   "version": "3.9.10"
  },
  "orig_nbformat": 4
 },
 "nbformat": 4,
 "nbformat_minor": 2
}
