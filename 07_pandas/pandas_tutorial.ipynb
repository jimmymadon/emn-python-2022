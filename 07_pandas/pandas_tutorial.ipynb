{
 "cells": [
  {
   "cell_type": "code",
   "execution_count": 2,
   "metadata": {},
   "outputs": [
    {
     "name": "stdout",
     "output_type": "stream",
     "text": [
      "Printing cars_list\n",
      "['Mercedes', 'BMW', 'Audi']\n",
      "\n"
     ]
    }
   ],
   "source": [
    "import pandas as pd\n",
    "\n",
    "cars_list = [\"Mercedes\", \"BMW\", \"Audi\"]\n",
    "print(\"Printing cars_list\")\n",
    "print(cars_list)\n",
    "print()"
   ]
  },
  {
   "cell_type": "code",
   "execution_count": 3,
   "metadata": {},
   "outputs": [
    {
     "name": "stdout",
     "output_type": "stream",
     "text": [
      "Printing cars_series:\n",
      "0    Mercedes\n",
      "1         BMW\n",
      "2        Audi\n",
      "dtype: object\n",
      "\n",
      "Third car in the cars_series is: Audi\n"
     ]
    }
   ],
   "source": [
    "# Creating a Pandas Series using 1 simple python list\n",
    "cars_series = pd.Series(cars_list)\n",
    "print(\"Printing cars_series:\")\n",
    "print(cars_series)\n",
    "print()\n",
    "print(\"Third car in the cars_series is:\", cars_series[2])"
   ]
  },
  {
   "cell_type": "code",
   "execution_count": 4,
   "metadata": {},
   "outputs": [
    {
     "name": "stdout",
     "output_type": "stream",
     "text": [
      "Printing cars_series_with_labels:\n",
      "C Class     Mercedes\n",
      "4 Series         BMW\n",
      "Q5              Audi\n",
      "dtype: object\n",
      "\n",
      "Third car in the cars_series_with_labels is: Audi\n"
     ]
    }
   ],
   "source": [
    "cars_models = [\"C Class\", \"4 Series\", \"Q5\"]\n",
    "# Creating a Pandas Series using 2 python lists: First list for values, second list for index/labels\n",
    "cars_series_with_labels = pd.Series(cars_list, cars_models)\n",
    "print(\"Printing cars_series_with_labels:\")\n",
    "print(cars_series_with_labels)\n",
    "print()\n",
    "print(\"Third car in the cars_series_with_labels is:\", cars_series_with_labels[\"Q5\"])"
   ]
  },
  {
   "cell_type": "code",
   "execution_count": 5,
   "metadata": {},
   "outputs": [
    {
     "name": "stdout",
     "output_type": "stream",
     "text": [
      "Printing cars_dictionary:\n",
      "{'C Class': 'Mercedes', '3 Series': 'BMW', 'Q5': 'Audi'}\n"
     ]
    }
   ],
   "source": [
    "cars_dictionary = {\n",
    "    \"C Class\": \"Mercedes\",\n",
    "    \"3 Series\": \"BMW\",\n",
    "    \"Q5\": \"Audi\"\n",
    "}\n",
    "print(\"Printing cars_dictionary:\")\n",
    "print(cars_dictionary)"
   ]
  },
  {
   "cell_type": "code",
   "execution_count": 6,
   "metadata": {},
   "outputs": [
    {
     "name": "stdout",
     "output_type": "stream",
     "text": [
      "C Class     Mercedes\n",
      "3 Series         BMW\n",
      "Q5              Audi\n",
      "dtype: object\n"
     ]
    }
   ],
   "source": [
    "# Creating a Pandas Series using a single python dictionary\n",
    "cars_series_with_labels_2 = pd.Series(cars_dictionary)\n",
    "print(cars_series_with_labels_2)"
   ]
  },
  {
   "cell_type": "code",
   "execution_count": 9,
   "metadata": {},
   "outputs": [
    {
     "name": "stdout",
     "output_type": "stream",
     "text": [
      "car_price_table: {'cars': ['Mercedes', 'BMW', 'Lamborghini', 'Renault'], 'prices': [35000, 40000, 150000, 11000]} <class 'dict'>\n",
      "car_price_table['cars']: ['Mercedes', 'BMW', 'Lamborghini', 'Renault'] <class 'list'>\n",
      "car_price_table['cars'][1]: BMW <class 'str'>\n",
      "car_price_table['prices'][2]: 150000 <class 'int'>\n"
     ]
    }
   ],
   "source": [
    "# Example of a dictionary that has 2 lists as values\n",
    "car_price_table = {\n",
    "    \"cars\": [\"Mercedes\", \"BMW\", \"Lamborghini\", \"Renault\"],\n",
    "    \"prices\": [35000, 40000, 150000, 11000]\n",
    "}\n",
    "# Example of accessing the car_price_table dictionary\n",
    "print(\"car_price_table:\", car_price_table, type(car_price_table))\n",
    "print(\"car_price_table['cars']:\", car_price_table['cars'], type(car_price_table['cars']))\n",
    "print(\"car_price_table['cars'][1]:\", car_price_table['cars'][1], type(car_price_table['cars'][1]))\n",
    "print(\"car_price_table['prices'][2]:\", car_price_table['prices'][2], type(car_price_table['prices'][2]))"
   ]
  },
  {
   "cell_type": "code",
   "execution_count": 13,
   "metadata": {},
   "outputs": [
    {
     "name": "stdout",
     "output_type": "stream",
     "text": [
      "          cars  prices\n",
      "0     Mercedes   35000\n",
      "1          BMW   40000\n",
      "2  Lamborghini  150000\n",
      "3      Renault   11000\n"
     ]
    }
   ],
   "source": [
    "car_price_dataframe = pd.DataFrame(car_price_table)\n",
    "print(car_price_dataframe)"
   ]
  },
  {
   "cell_type": "code",
   "execution_count": 16,
   "metadata": {},
   "outputs": [
    {
     "name": "stdout",
     "output_type": "stream",
     "text": [
      "cars      Renault\n",
      "prices      11000\n",
      "Name: 3, dtype: object\n"
     ]
    }
   ],
   "source": [
    "row3 = car_price_dataframe.loc[3]\n",
    "print(row3)"
   ]
  },
  {
   "cell_type": "code",
   "execution_count": 18,
   "metadata": {},
   "outputs": [
    {
     "name": "stdout",
     "output_type": "stream",
     "text": [
      "          cars  prices\n",
      "1          BMW   40000\n",
      "2  Lamborghini  150000\n"
     ]
    }
   ],
   "source": [
    "expensive_cars = car_price_dataframe.loc[[1,2]]\n",
    "print(expensive_cars)"
   ]
  }
 ],
 "metadata": {
  "interpreter": {
   "hash": "aee8b7b246df8f9039afb4144a1f6fd8d2ca17a180786b69acc140d282b71a49"
  },
  "kernelspec": {
   "display_name": "Python 3.9.10 64-bit",
   "language": "python",
   "name": "python3"
  },
  "language_info": {
   "codemirror_mode": {
    "name": "ipython",
    "version": 3
   },
   "file_extension": ".py",
   "mimetype": "text/x-python",
   "name": "python",
   "nbconvert_exporter": "python",
   "pygments_lexer": "ipython3",
   "version": "3.9.10"
  },
  "orig_nbformat": 4
 },
 "nbformat": 4,
 "nbformat_minor": 2
}
